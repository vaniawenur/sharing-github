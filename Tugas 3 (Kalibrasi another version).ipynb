{
 "cells": [
  {
   "cell_type": "code",
   "execution_count": 1,
   "metadata": {},
   "outputs": [],
   "source": [
    "import numpy as np"
   ]
  },
  {
   "cell_type": "code",
   "execution_count": 2,
   "metadata": {},
   "outputs": [],
   "source": [
    "import cv2"
   ]
  },
  {
   "cell_type": "code",
   "execution_count": 3,
   "metadata": {},
   "outputs": [],
   "source": [
    "import glob"
   ]
  },
  {
   "cell_type": "code",
   "execution_count": 4,
   "metadata": {},
   "outputs": [],
   "source": [
    "import sys"
   ]
  },
  {
   "cell_type": "code",
   "execution_count": 5,
   "metadata": {},
   "outputs": [],
   "source": [
    "# Run an intrinsic checkerboard calibration for the camera of your specification \n",
    "# to run this just run \n",
    "# python camCalibrate.py (number of the camera you want to calibrate in the data folder)"
   ]
  },
  {
   "cell_type": "code",
   "execution_count": 6,
   "metadata": {},
   "outputs": [],
   "source": [
    "# termination criteria\n",
    "criteria = (cv2.TERM_CRITERIA_EPS + cv2.TERM_CRITERIA_MAX_ITER, 30, 0.001)\n",
    "\n",
    "cbrow, cbcol = 7, 9\n",
    "# this is for 7,11 because you have to have inlier points.\n",
    "# https://stackoverflow.com/questions/31249037/calibrating-webcam-using-python-and-opencv-error/36441746"
   ]
  },
  {
   "cell_type": "code",
   "execution_count": 7,
   "metadata": {},
   "outputs": [],
   "source": [
    "# prepare object points, like (0,0,0), (1,0,0), (2,0,0) ....,(6,5,0)\n",
    "objp = np.zeros((cbrow * cbcol, 3), np.float32)\n",
    "objp[:, :2] = np.mgrid[0:cbcol, 0:cbrow].T.reshape(-1, 2)"
   ]
  },
  {
   "cell_type": "code",
   "execution_count": 8,
   "metadata": {},
   "outputs": [],
   "source": [
    "# Arrays to store object points and image points from all the images.\n",
    "objpoints = []  # 3d point in real world space\n",
    "imgpoints = []  # 2d points in image plane."
   ]
  },
  {
   "cell_type": "code",
   "execution_count": 11,
   "metadata": {},
   "outputs": [],
   "source": [
    "images = glob.glob('D:/vanias/sem 4/PCD/mner jimmy/Tugas 2/papancatur.' + sys.argv[1] + '*JPG')"
   ]
  },
  {
   "cell_type": "code",
   "execution_count": 12,
   "metadata": {},
   "outputs": [
    {
     "name": "stdout",
     "output_type": "stream",
     "text": [
      "[]\n"
     ]
    }
   ],
   "source": [
    "print(images)\n",
    "# keep track of how many were detected out of the total images looked at\n",
    "i, j = 0, 0"
   ]
  },
  {
   "cell_type": "code",
   "execution_count": 13,
   "metadata": {},
   "outputs": [],
   "source": [
    "for fname in images:\n",
    "    i += 1\n",
    "    img = cv2.imread(fname)\n",
    "    gray = cv2.cvtColor(img, cv2.COLOR_BGR2GRAY)\n",
    "    print(fname)\n",
    "    # gray = cv2.GaussianBlur(gray, (5,5),6,6)"
   ]
  },
  {
   "cell_type": "code",
   "execution_count": 16,
   "metadata": {},
   "outputs": [
    {
     "ename": "IndentationError",
     "evalue": "unexpected indent (<ipython-input-16-9c33962b6ec0>, line 2)",
     "output_type": "error",
     "traceback": [
      "\u001b[1;36m  File \u001b[1;32m\"<ipython-input-16-9c33962b6ec0>\"\u001b[1;36m, line \u001b[1;32m2\u001b[0m\n\u001b[1;33m    ret, corners = cv2.findChessboardCorners(gray, (cbcol, cbrow), None)\u001b[0m\n\u001b[1;37m    ^\u001b[0m\n\u001b[1;31mIndentationError\u001b[0m\u001b[1;31m:\u001b[0m unexpected indent\n"
     ]
    }
   ],
   "source": [
    " # Find the chess board corners\n",
    "    ret, corners = cv2.findChessboardCorners(gray, (cbcol, cbrow), None)\n",
    "    # If found, add object points, image points (after refining them)\n",
    "    if ret:\n",
    "        objpoints.append(objp)\n",
    "        j += 1\n",
    "\n",
    "        # image, corners, winSize, zeroZone, criteria\n",
    "        corners2 = cv2.cornerSubPix(gray,\n",
    "                                    corners,\n",
    "                                    (11, 11),\n",
    "                                    (-1, -1),\n",
    "                                    criteria)\n",
    "        imgpoints.append(corners2)\n",
    "\n",
    "        # Draw and display the corners\n",
    "        img = cv2.drawChessboardCorners(img, (cbcol, cbrow), corners2, ret)\n",
    "        cv2.imshow('img', img)\n",
    "        cv2.waitKey(100)\n",
    "\n",
    "    # cv2.imshow('img', gray)\n",
    "    # cv2.waitKey(100)\n",
    "\n",
    "    # print(objpoints, imgpoints, gray.shape[::-1], None, None)\n",
    "if len(sys.argv) > 2:\n",
    "    # print(\"FISHEYE!\")\n",
    "    ret, mtx, dist, rvecs, tvecs = cv2.fisheye.calibrate(objpoints,\n",
    "                                                         imgpoints,\n",
    "                                                         gray.shape[::-1],\n",
    "                                                         None, None)\n",
    "else:\n",
    "    ret, mtx, dist, rvecs, tvecs = cv2.calibrateCamera(objpoints,\n",
    "                                                       imgpoints,\n",
    "                                                       gray.shape[::-1],\n",
    "                                                       None, None)\n",
    "\n",
    "print(ret)\n",
    "'''\n",
    "ret =\n",
    "mtx = camera matrix\n",
    "dist = distortion coefficient\n",
    "rvecs = rotation vectors\n",
    "tvecs = translation vectors\n",
    "'''\n",
    "print('\\n\\n\\n'.join([str(x) for x in [ret, mtx, dist, rvecs, tvecs]]))\n",
    "print(j, 'out of', i, 'detected')\n",
    "cv2.destroyAllWindows()"
   ]
  },
  {
   "cell_type": "code",
   "execution_count": null,
   "metadata": {},
   "outputs": [],
   "source": []
  }
 ],
 "metadata": {
  "kernelspec": {
   "display_name": "Python 3",
   "language": "python",
   "name": "python3"
  },
  "language_info": {
   "codemirror_mode": {
    "name": "ipython",
    "version": 3
   },
   "file_extension": ".py",
   "mimetype": "text/x-python",
   "name": "python",
   "nbconvert_exporter": "python",
   "pygments_lexer": "ipython3",
   "version": "3.7.6"
  }
 },
 "nbformat": 4,
 "nbformat_minor": 4
}
